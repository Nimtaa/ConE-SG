{
 "cells": [
  {
   "cell_type": "code",
   "execution_count": 2,
   "id": "1061c7c1",
   "metadata": {},
   "outputs": [],
   "source": [
    "import numpy as np\n",
    "import pickle"
   ]
  },
  {
   "cell_type": "code",
   "execution_count": 3,
   "id": "19ee180e",
   "metadata": {},
   "outputs": [],
   "source": [
    "with open('../code/SGO-Models/X_emb_vit.pkl', 'rb') as f:\n",
    "    X_emb = pickle.load(f)\n",
    "    \n",
    "with open('../code/SGO-Models/Y_emb_vit.pkl', 'rb') as f:\n",
    "    Y_emb = pickle.load(f)"
   ]
  },
  {
   "cell_type": "code",
   "execution_count": null,
   "id": "7478c58e",
   "metadata": {},
   "outputs": [],
   "source": []
  }
 ],
 "metadata": {
  "kernelspec": {
   "display_name": "Python 3 (ipykernel)",
   "language": "python",
   "name": "python3"
  },
  "language_info": {
   "codemirror_mode": {
    "name": "ipython",
    "version": 3
   },
   "file_extension": ".py",
   "mimetype": "text/x-python",
   "name": "python",
   "nbconvert_exporter": "python",
   "pygments_lexer": "ipython3",
   "version": "3.10.9"
  }
 },
 "nbformat": 4,
 "nbformat_minor": 5
}
